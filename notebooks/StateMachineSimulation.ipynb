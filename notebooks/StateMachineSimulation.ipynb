{
 "cells": [
  {
   "cell_type": "markdown",
   "metadata": {},
   "source": [
    "# State Machine Simulation"
   ]
  },
  {
   "cell_type": "markdown",
   "metadata": {},
   "source": [
    "This notebook describes a state machine model for Python that exports a simulation trace"
   ]
  },
  {
   "cell_type": "markdown",
   "metadata": {},
   "source": [
    "# Define a Generic State Machine Class "
   ]
  },
  {
   "cell_type": "code",
   "execution_count": 1,
   "metadata": {},
   "outputs": [],
   "source": [
    "class StateMachine:\n",
    "    def __init__(self):\n",
    "        self.handlers = {}\n",
    "        self.startState = None\n",
    "        self.endStates = []\n",
    "\n",
    "    def add_state(self, name, handler, end_state=0):\n",
    "        name = name.upper()\n",
    "        self.handlers[name] = handler\n",
    "        if end_state:\n",
    "            self.endStates.append(name)\n",
    "\n",
    "    def set_start(self, name):\n",
    "        self.startState = name.upper()\n",
    "\n",
    "    def run(self, input):\n",
    "        try:\n",
    "            handler = self.handlers[self.startState]\n",
    "            output = []\n",
    "        except:\n",
    "            raise InitializationError(\"must call .set_start() before .run()\")\n",
    "        #if not self.endStates:\n",
    "        #   raise  InitializationError(\"at least one state must be an end_state\")\n",
    "    \n",
    "        while True:\n",
    "            (newState, output, input) = handler(input, output)\n",
    "            if len(input)==0:\n",
    "                break\n",
    "            if newState.upper() in self.endStates:\n",
    "                print(\"reached \", newState)\n",
    "                break \n",
    "            else:\n",
    "                handler = self.handlers[newState.upper()] \n",
    "        return output"
   ]
  },
  {
   "cell_type": "markdown",
   "metadata": {},
   "source": [
    "# Derive a Coffee Vending Machine"
   ]
  },
  {
   "cell_type": "code",
   "execution_count": 2,
   "metadata": {},
   "outputs": [],
   "source": [
    "#inputs = [\"coin-5\",\"coin-10\", \"coffee\", \"tea\"]\n",
    "#outputs = [\"cupOfTea\", \"cupOfCoffee\", \"return-5\"]\n",
    "    \n",
    "\n",
    "def idle_transitions(input,output):\n",
    "    currentInput = input[0]  \n",
    "    input =  input[1:] if len(input) > 1 else []\n",
    "    if currentInput == \"coin-5\":\n",
    "        newState = \"Paid5\"\n",
    "    elif currentInput == \"coin-10\":\n",
    "        newState = \"Paid10\"\n",
    "    else:\n",
    "        newState = \"idle\"\n",
    "    output.append(\"\")\n",
    "    return (newState, output, input)\n",
    "\n",
    "def paid5_transitions(input, output):\n",
    "    currentInput = input[0]  \n",
    "    input =  input[1:] if len(input) > 1 else []\n",
    "    if currentInput == \"tea\":\n",
    "        newState = \"idle\"\n",
    "        output.append(\"cupOfTea\")\n",
    "    elif currentInput == \"coffee\":\n",
    "        newState = \"idle\"\n",
    "        output.append(\"return-5\")\n",
    "    elif currentInput == \"coin-5\":\n",
    "        newState = \"Paid10\"\n",
    "        output.append(\"\")\n",
    "    else:\n",
    "        newState = \"idle\"\n",
    "        output.append(\"\")\n",
    "    return (newState, output, input)\n",
    "\n",
    "def paid10_transitions(input, output):\n",
    "    currentInput = input[0]  \n",
    "    input =  input[1:] if len(input) > 1 else []\n",
    "    if currentInput == \"tea\":\n",
    "        newState = \"idle\"\n",
    "        output.append(\"cupOfTea, return-5\")\n",
    "    elif currentInput == \"coffee\":\n",
    "        newState = \"idle\"\n",
    "        output.append(\"cupOfCoffee\")\n",
    "    else:\n",
    "        newState = \"idle\"\n",
    "        output.append(\"\")\n",
    "    return (newState, output, input)\n",
    "\n",
    "def getCVM():\n",
    "    m = StateMachine()\n",
    "    m.add_state(\"idle\", idle_transitions)\n",
    "    m.add_state(\"Paid5\", paid5_transitions)\n",
    "    m.add_state(\"Paid10\", paid10_transitions)\n",
    "    m.set_start(\"idle\")\n",
    "    return m\n"
   ]
  },
  {
   "cell_type": "markdown",
   "metadata": {},
   "source": [
    "Let's run the CVM model"
   ]
  },
  {
   "cell_type": "code",
   "execution_count": 3,
   "metadata": {},
   "outputs": [
    {
     "data": {
      "text/plain": [
       "list"
      ]
     },
     "execution_count": 3,
     "metadata": {},
     "output_type": "execute_result"
    }
   ],
   "source": [
    "input = [\"coin-5\",\"tea\", \"coin-10\", \"coffee\", \"coin-5\", \"coin-5\", \"coffee\", \"coin-10\", \"tea\"]\n",
    "type(input)"
   ]
  },
  {
   "cell_type": "code",
   "execution_count": 4,
   "metadata": {},
   "outputs": [
    {
     "name": "stdout",
     "output_type": "stream",
     "text": [
      "['', 'cupOfTea', '', 'cupOfCoffee', '', '', 'cupOfCoffee', '', 'cupOfTea, return-5']\n"
     ]
    }
   ],
   "source": [
    "cvm = getCVM()\n",
    "out = cvm.run(input)\n",
    "print (out)"
   ]
  }
 ],
 "metadata": {
  "kernelspec": {
   "display_name": "Python 3",
   "language": "python",
   "name": "python3"
  },
  "language_info": {
   "codemirror_mode": {
    "name": "ipython",
    "version": 3
   },
   "file_extension": ".py",
   "mimetype": "text/x-python",
   "name": "python",
   "nbconvert_exporter": "python",
   "pygments_lexer": "ipython3",
   "version": "3.6.6"
  }
 },
 "nbformat": 4,
 "nbformat_minor": 2
}
